{
 "cells": [
  {
   "cell_type": "code",
   "execution_count": 1,
   "metadata": {},
   "outputs": [],
   "source": [
    "import pandas as pd"
   ]
  },
  {
   "cell_type": "code",
   "execution_count": 2,
   "metadata": {},
   "outputs": [],
   "source": [
    "data = pd.read_csv('dataset/binus.csv')"
   ]
  },
  {
   "cell_type": "code",
   "execution_count": 3,
   "metadata": {},
   "outputs": [
    {
     "data": {
      "text/plain": [
       "(100, 3)"
      ]
     },
     "execution_count": 3,
     "metadata": {},
     "output_type": "execute_result"
    }
   ],
   "source": [
    "# Menampilkan banyaknya data\n",
    "data.shape"
   ]
  },
  {
   "cell_type": "code",
   "execution_count": 4,
   "metadata": {},
   "outputs": [
    {
     "data": {
      "text/html": [
       "<div>\n",
       "<style scoped>\n",
       "    .dataframe tbody tr th:only-of-type {\n",
       "        vertical-align: middle;\n",
       "    }\n",
       "\n",
       "    .dataframe tbody tr th {\n",
       "        vertical-align: top;\n",
       "    }\n",
       "\n",
       "    .dataframe thead th {\n",
       "        text-align: right;\n",
       "    }\n",
       "</style>\n",
       "<table border=\"1\" class=\"dataframe\">\n",
       "  <thead>\n",
       "    <tr style=\"text-align: right;\">\n",
       "      <th></th>\n",
       "      <th>tweeted_at</th>\n",
       "      <th>username</th>\n",
       "      <th>tweet</th>\n",
       "    </tr>\n",
       "  </thead>\n",
       "  <tbody>\n",
       "    <tr>\n",
       "      <th>0</th>\n",
       "      <td>2020-04-12 05:25:29</td>\n",
       "      <td>ceyjii</td>\n",
       "      <td>@collegemenfess computer science binus si kere...</td>\n",
       "    </tr>\n",
       "    <tr>\n",
       "      <th>1</th>\n",
       "      <td>2020-04-12 05:22:08</td>\n",
       "      <td>despicabule</td>\n",
       "      <td>@FOOD_FESS Nasi padang new city alias kota bar...</td>\n",
       "    </tr>\n",
       "    <tr>\n",
       "      <th>2</th>\n",
       "      <td>2020-04-12 05:17:49</td>\n",
       "      <td>billanantii</td>\n",
       "      <td>@ranggabrni @collegemenfess Binus yg di Araya ...</td>\n",
       "    </tr>\n",
       "  </tbody>\n",
       "</table>\n",
       "</div>"
      ],
      "text/plain": [
       "            tweeted_at     username  \\\n",
       "0  2020-04-12 05:25:29       ceyjii   \n",
       "1  2020-04-12 05:22:08  despicabule   \n",
       "2  2020-04-12 05:17:49  billanantii   \n",
       "\n",
       "                                               tweet  \n",
       "0  @collegemenfess computer science binus si kere...  \n",
       "1  @FOOD_FESS Nasi padang new city alias kota bar...  \n",
       "2  @ranggabrni @collegemenfess Binus yg di Araya ...  "
      ]
     },
     "execution_count": 4,
     "metadata": {},
     "output_type": "execute_result"
    }
   ],
   "source": [
    "# Menampilkan 3 data paling atas\n",
    "data.head(3)"
   ]
  },
  {
   "cell_type": "code",
   "execution_count": 5,
   "metadata": {},
   "outputs": [
    {
     "data": {
      "text/html": [
       "<div>\n",
       "<style scoped>\n",
       "    .dataframe tbody tr th:only-of-type {\n",
       "        vertical-align: middle;\n",
       "    }\n",
       "\n",
       "    .dataframe tbody tr th {\n",
       "        vertical-align: top;\n",
       "    }\n",
       "\n",
       "    .dataframe thead th {\n",
       "        text-align: right;\n",
       "    }\n",
       "</style>\n",
       "<table border=\"1\" class=\"dataframe\">\n",
       "  <thead>\n",
       "    <tr style=\"text-align: right;\">\n",
       "      <th></th>\n",
       "      <th>tweeted_at</th>\n",
       "      <th>username</th>\n",
       "      <th>tweet</th>\n",
       "    </tr>\n",
       "  </thead>\n",
       "  <tbody>\n",
       "    <tr>\n",
       "      <th>97</th>\n",
       "      <td>2020-04-11 11:59:50</td>\n",
       "      <td>flerovia</td>\n",
       "      <td>@ohmybeautybank Kantong mahasiswanya mana nih ...</td>\n",
       "    </tr>\n",
       "    <tr>\n",
       "      <th>98</th>\n",
       "      <td>2020-04-11 11:52:48</td>\n",
       "      <td>alhaqz</td>\n",
       "      <td>@collegemenfess binus - dkv</td>\n",
       "    </tr>\n",
       "    <tr>\n",
       "      <th>99</th>\n",
       "      <td>2020-04-11 11:52:36</td>\n",
       "      <td>egaaal2</td>\n",
       "      <td>@collegemenfess Kl gadapet ptn, Binus,Bisnis d...</td>\n",
       "    </tr>\n",
       "  </tbody>\n",
       "</table>\n",
       "</div>"
      ],
      "text/plain": [
       "             tweeted_at  username  \\\n",
       "97  2020-04-11 11:59:50  flerovia   \n",
       "98  2020-04-11 11:52:48    alhaqz   \n",
       "99  2020-04-11 11:52:36   egaaal2   \n",
       "\n",
       "                                                tweet  \n",
       "97  @ohmybeautybank Kantong mahasiswanya mana nih ...  \n",
       "98                        @collegemenfess binus - dkv  \n",
       "99  @collegemenfess Kl gadapet ptn, Binus,Bisnis d...  "
      ]
     },
     "execution_count": 5,
     "metadata": {},
     "output_type": "execute_result"
    }
   ],
   "source": [
    "# Menampilkan 3 data paling bawah\n",
    "data.tail(3)"
   ]
  },
  {
   "cell_type": "code",
   "execution_count": 6,
   "metadata": {},
   "outputs": [
    {
     "data": {
      "text/html": [
       "<div>\n",
       "<style scoped>\n",
       "    .dataframe tbody tr th:only-of-type {\n",
       "        vertical-align: middle;\n",
       "    }\n",
       "\n",
       "    .dataframe tbody tr th {\n",
       "        vertical-align: top;\n",
       "    }\n",
       "\n",
       "    .dataframe thead th {\n",
       "        text-align: right;\n",
       "    }\n",
       "</style>\n",
       "<table border=\"1\" class=\"dataframe\">\n",
       "  <thead>\n",
       "    <tr style=\"text-align: right;\">\n",
       "      <th></th>\n",
       "      <th>tweeted_at</th>\n",
       "      <th>username</th>\n",
       "      <th>tweet</th>\n",
       "    </tr>\n",
       "  </thead>\n",
       "  <tbody>\n",
       "    <tr>\n",
       "      <th>86</th>\n",
       "      <td>2020-04-11 13:34:49</td>\n",
       "      <td>VionAlonso</td>\n",
       "      <td>@collegemenfess Binus Tel-U LSPR</td>\n",
       "    </tr>\n",
       "    <tr>\n",
       "      <th>81</th>\n",
       "      <td>2020-04-11 13:46:06</td>\n",
       "      <td>Jmurbeiy</td>\n",
       "      <td>@schoolmnfs keunggulannya di PTS abis lulus bi...</td>\n",
       "    </tr>\n",
       "    <tr>\n",
       "      <th>5</th>\n",
       "      <td>2020-04-12 04:57:25</td>\n",
       "      <td>medulaq</td>\n",
       "      <td>Bro ini tiap hari cuman bukain gift, potion re...</td>\n",
       "    </tr>\n",
       "    <tr>\n",
       "      <th>49</th>\n",
       "      <td>2020-04-11 16:15:14</td>\n",
       "      <td>FxxxkingRabits</td>\n",
       "      <td>@apayahgtw Ospek nya binus enak cuman keliling...</td>\n",
       "    </tr>\n",
       "    <tr>\n",
       "      <th>85</th>\n",
       "      <td>2020-04-11 13:35:20</td>\n",
       "      <td>belleetreussie</td>\n",
       "      <td>SIAPA PUNYA KENALAN ANAK BINUS JAKARTA?</td>\n",
       "    </tr>\n",
       "  </tbody>\n",
       "</table>\n",
       "</div>"
      ],
      "text/plain": [
       "             tweeted_at        username  \\\n",
       "86  2020-04-11 13:34:49      VionAlonso   \n",
       "81  2020-04-11 13:46:06        Jmurbeiy   \n",
       "5   2020-04-12 04:57:25         medulaq   \n",
       "49  2020-04-11 16:15:14  FxxxkingRabits   \n",
       "85  2020-04-11 13:35:20  belleetreussie   \n",
       "\n",
       "                                                tweet  \n",
       "86                   @collegemenfess Binus Tel-U LSPR  \n",
       "81  @schoolmnfs keunggulannya di PTS abis lulus bi...  \n",
       "5   Bro ini tiap hari cuman bukain gift, potion re...  \n",
       "49  @apayahgtw Ospek nya binus enak cuman keliling...  \n",
       "85            SIAPA PUNYA KENALAN ANAK BINUS JAKARTA?  "
      ]
     },
     "execution_count": 6,
     "metadata": {},
     "output_type": "execute_result"
    }
   ],
   "source": [
    "# Menampilkan 5 data secara acak\n",
    "data.sample(5)"
   ]
  },
  {
   "cell_type": "code",
   "execution_count": 7,
   "metadata": {},
   "outputs": [
    {
     "data": {
      "text/plain": [
       "Index(['tweeted_at', 'username', 'tweet'], dtype='object')"
      ]
     },
     "execution_count": 7,
     "metadata": {},
     "output_type": "execute_result"
    }
   ],
   "source": [
    "# Menampilkan kolom yang ada\n",
    "data.columns"
   ]
  },
  {
   "cell_type": "code",
   "execution_count": 8,
   "metadata": {},
   "outputs": [
    {
     "name": "stdout",
     "output_type": "stream",
     "text": [
      "['yang', 'untuk', 'pada', 'ke', 'para', 'namun', 'menurut', 'antara', 'dia', 'dua', 'ia', 'seperti', 'jika', 'jika', 'sehingga', 'kembali', 'dan', 'tidak', 'ini', 'karena', 'kepada', 'oleh', 'saat', 'harus', 'sementara', 'setelah', 'belum', 'kami', 'sekitar', 'bagi', 'serta', 'di', 'dari', 'telah', 'sebagai', 'masih', 'hal', 'ketika', 'adalah', 'itu', 'dalam', 'bisa', 'bahwa', 'atau', 'hanya', 'kita', 'dengan', 'akan', 'juga', 'ada', 'mereka', 'sudah', 'saya', 'terhadap', 'secara', 'agar', 'lain', 'anda', 'begitu', 'mengapa', 'kenapa', 'yaitu', 'yakni', 'daripada', 'itulah', 'lagi', 'maka', 'tentang', 'demi', 'dimana', 'kemana', 'pula', 'sambil', 'sebelum', 'sesudah', 'supaya', 'guna', 'kah', 'pun', 'sampai', 'sedangkan', 'selagi', 'sementara', 'tetapi', 'apakah', 'kecuali', 'sebab', 'selain', 'seolah', 'seraya', 'seterusnya', 'tanpa', 'agak', 'boleh', 'dapat', 'dsb', 'dst', 'dll', 'dahulu', 'dulunya', 'anu', 'demikian', 'tapi', 'ingin', 'juga', 'nggak', 'mari', 'nanti', 'melainkan', 'oh', 'ok', 'seharusnya', 'sebetulnya', 'setiap', 'setidaknya', 'sesuatu', 'pasti', 'saja', 'toh', 'ya', 'walau', 'tolong', 'tentu', 'amat', 'apalagi', 'bagaimanapun']\n"
     ]
    }
   ],
   "source": [
    "# import library Sastrawi yang berisi kata yang tidak penting atau dikenal dengan stopwords dalam bahasa Indonesia\n",
    "from Sastrawi.StopWordRemover.StopWordRemoverFactory import StopWordRemoverFactory\n",
    " \n",
    "factory = StopWordRemoverFactory()\n",
    "stopwords = factory.get_stop_words()\n",
    "print(stopwords)"
   ]
  },
  {
   "cell_type": "code",
   "execution_count": 9,
   "metadata": {},
   "outputs": [],
   "source": [
    "# Menyiapkan pattern untuk text preprocessing\n",
    "import re\n",
    "from bs4 import BeautifulSoup\n",
    "from nltk.tokenize import WordPunctTokenizer\n",
    "\n",
    "tok = WordPunctTokenizer()\n",
    "pattern1 = r'@[A-Za-z0-9_]+' # Menghilangkan username twitter\n",
    "pattern2 = r'https?://[^ ]+' # Menghilangkan situs website\n",
    "combined_pattern = r'|'.join((pattern1, pattern2)) #join pattern1 dan pattern2\n",
    "www_pattern = r'www.[^ ]+' # Menghilangkan situs website"
   ]
  },
  {
   "cell_type": "code",
   "execution_count": 10,
   "metadata": {},
   "outputs": [],
   "source": [
    "# Fungsi untuk text cleaning\n",
    "def clean_text(teks):\n",
    "    soup = BeautifulSoup(teks, 'lxml')\n",
    "    souped = soup.get_text()\n",
    "    try:\n",
    "        teks = souped.decode(\"utf-8-sig\").replace(u\"\\ufffd\", \"?\")\n",
    "    except:\n",
    "        teks = souped\n",
    "    teks_bersih= re.sub(\"[^a-zA-Z0-9]\", \" \",(re.sub(www_pattern, '', re.sub(combined_pattern, '', teks)).lower()))\n",
    "    teks_bersih= ' '.join([word for word in teks_bersih.split() if word not in stopwords])\n",
    "    return (\" \".join([x for x in tok.tokenize(teks_bersih) if len(x) > 1])).strip()"
   ]
  },
  {
   "cell_type": "code",
   "execution_count": 11,
   "metadata": {},
   "outputs": [
    {
     "data": {
      "text/plain": [
       "'hahaha pergi tanggal 15 bulan februari besok hari kemarin suka main'"
      ]
     },
     "execution_count": 11,
     "metadata": {},
     "output_type": "execute_result"
    }
   ],
   "source": [
    "# Testing fungsi clean_teks\n",
    "teks='''hahaha apakah SAYA ingin pergi pada tanggal 15 bulan februari besok ? tidak karena hari kemarin @twitter suka main https://www.twitter.com'''\n",
    "clean_text(teks)"
   ]
  },
  {
   "cell_type": "code",
   "execution_count": 12,
   "metadata": {},
   "outputs": [],
   "source": [
    "clean_tweet=[]\n",
    "\n",
    "# Cleaning text dari tweet\n",
    "for tweet in data.tweet:\n",
    "    clean_tweet.append(clean_text(tweet))\n",
    "\n",
    "# Membuat kolom baru clean_tweet\n",
    "clean = pd.DataFrame({'clean_tweet':clean_tweet})\n",
    "data = pd.concat([data,clean],axis=1)"
   ]
  },
  {
   "cell_type": "code",
   "execution_count": 13,
   "metadata": {},
   "outputs": [],
   "source": [
    "# Menghapus baris yang datanya kosong\n",
    "import numpy as np\n",
    "\n",
    "data['clean_tweet'].replace('', np.nan, inplace=True)\n",
    "data.dropna(subset=['clean_tweet'], inplace=True)"
   ]
  },
  {
   "cell_type": "code",
   "execution_count": 14,
   "metadata": {},
   "outputs": [
    {
     "data": {
      "text/html": [
       "<div>\n",
       "<style scoped>\n",
       "    .dataframe tbody tr th:only-of-type {\n",
       "        vertical-align: middle;\n",
       "    }\n",
       "\n",
       "    .dataframe tbody tr th {\n",
       "        vertical-align: top;\n",
       "    }\n",
       "\n",
       "    .dataframe thead th {\n",
       "        text-align: right;\n",
       "    }\n",
       "</style>\n",
       "<table border=\"1\" class=\"dataframe\">\n",
       "  <thead>\n",
       "    <tr style=\"text-align: right;\">\n",
       "      <th></th>\n",
       "      <th>tweeted_at</th>\n",
       "      <th>username</th>\n",
       "      <th>tweet</th>\n",
       "      <th>clean_tweet</th>\n",
       "    </tr>\n",
       "  </thead>\n",
       "  <tbody>\n",
       "    <tr>\n",
       "      <th>0</th>\n",
       "      <td>2020-04-12 05:25:29</td>\n",
       "      <td>ceyjii</td>\n",
       "      <td>@collegemenfess computer science binus si kere...</td>\n",
       "      <td>computer science binus si keren</td>\n",
       "    </tr>\n",
       "    <tr>\n",
       "      <th>1</th>\n",
       "      <td>2020-04-12 05:22:08</td>\n",
       "      <td>despicabule</td>\n",
       "      <td>@FOOD_FESS Nasi padang new city alias kota bar...</td>\n",
       "      <td>nasi padang new city alias kota baru binus</td>\n",
       "    </tr>\n",
       "    <tr>\n",
       "      <th>2</th>\n",
       "      <td>2020-04-12 05:17:49</td>\n",
       "      <td>billanantii</td>\n",
       "      <td>@ranggabrni @collegemenfess Binus yg di Araya ...</td>\n",
       "      <td>binus yg araya malang</td>\n",
       "    </tr>\n",
       "    <tr>\n",
       "      <th>3</th>\n",
       "      <td>2020-04-12 05:15:39</td>\n",
       "      <td>sambelbawangg</td>\n",
       "      <td>big binus malang energy https://t.co/kZ5PRDx66x</td>\n",
       "      <td>big binus malang energy</td>\n",
       "    </tr>\n",
       "    <tr>\n",
       "      <th>4</th>\n",
       "      <td>2020-04-12 05:09:03</td>\n",
       "      <td>hyunbinshoe</td>\n",
       "      <td>@KPOPDRAMAID Binus nya korea</td>\n",
       "      <td>binus nya korea</td>\n",
       "    </tr>\n",
       "  </tbody>\n",
       "</table>\n",
       "</div>"
      ],
      "text/plain": [
       "            tweeted_at       username  \\\n",
       "0  2020-04-12 05:25:29         ceyjii   \n",
       "1  2020-04-12 05:22:08    despicabule   \n",
       "2  2020-04-12 05:17:49    billanantii   \n",
       "3  2020-04-12 05:15:39  sambelbawangg   \n",
       "4  2020-04-12 05:09:03    hyunbinshoe   \n",
       "\n",
       "                                               tweet  \\\n",
       "0  @collegemenfess computer science binus si kere...   \n",
       "1  @FOOD_FESS Nasi padang new city alias kota bar...   \n",
       "2  @ranggabrni @collegemenfess Binus yg di Araya ...   \n",
       "3    big binus malang energy https://t.co/kZ5PRDx66x   \n",
       "4                       @KPOPDRAMAID Binus nya korea   \n",
       "\n",
       "                                  clean_tweet  \n",
       "0             computer science binus si keren  \n",
       "1  nasi padang new city alias kota baru binus  \n",
       "2                       binus yg araya malang  \n",
       "3                     big binus malang energy  \n",
       "4                             binus nya korea  "
      ]
     },
     "execution_count": 14,
     "metadata": {},
     "output_type": "execute_result"
    }
   ],
   "source": [
    "data.head(5)"
   ]
  },
  {
   "cell_type": "code",
   "execution_count": 15,
   "metadata": {},
   "outputs": [],
   "source": [
    "# Membuat csv dari data\n",
    "data.to_csv('dataset/clean_binus.csv', index=False, header=True)"
   ]
  }
 ],
 "metadata": {
  "kernelspec": {
   "display_name": "Python 3",
   "language": "python",
   "name": "python3"
  },
  "language_info": {
   "codemirror_mode": {
    "name": "ipython",
    "version": 3
   },
   "file_extension": ".py",
   "mimetype": "text/x-python",
   "name": "python",
   "nbconvert_exporter": "python",
   "pygments_lexer": "ipython3",
   "version": "3.7.6"
  }
 },
 "nbformat": 4,
 "nbformat_minor": 4
}
